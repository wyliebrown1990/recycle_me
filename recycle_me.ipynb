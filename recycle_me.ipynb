{
 "cells": [
  {
   "cell_type": "code",
   "execution_count": 3,
   "id": "d6c31da3-99ca-4068-bc16-b1106c6fd8e5",
   "metadata": {},
   "outputs": [
    {
     "name": "stdin",
     "output_type": "stream",
     "text": [
      "Your location:  maine\n"
     ]
    },
    {
     "name": "stdout",
     "output_type": "stream",
     "text": [
      "Apologies but recycling information for maine is not available. Please choose a different location.\n"
     ]
    },
    {
     "name": "stdin",
     "output_type": "stream",
     "text": [
      "Your location:  new york\n",
      "Your material (plastic, metal or glass):  plastic\n",
      "Your item:  yogurt lid\n"
     ]
    },
    {
     "name": "stdout",
     "output_type": "stream",
     "text": [
      "Sorry, this item is not recyclable in new york for plastic material.\n"
     ]
    }
   ],
   "source": [
    "# install these modules to your system first to handle fuzzy matches for inputs from users:\n",
    "# pip install fuzzywuzzy \n",
    "# pip install python-Levenshtein\n",
    "\n",
    "from fuzzywuzzy import process\n",
    "\n",
    "#import this to add a timestamp to the unavailable location and items files.\n",
    "import datetime\n",
    "#start by creating a function to read the recyclable_items.txt file and pull into a dictionary {}\n",
    "def read_recyclable_items(file_path):\n",
    "    recyclable_items = {}\n",
    "    try:\n",
    "        with open(file_path, 'r') as file:\n",
    "            for line in file:\n",
    "                line = line.strip()\n",
    "                if line:  # Check if line is not empty\n",
    "                    parts = line.split(':')\n",
    "                    if len(parts) == 3:  # Check if line has all required parts\n",
    "                        location, material, items = parts\n",
    "                        location = location.strip()\n",
    "                        material = material.strip()\n",
    "                        items = [item.strip() for item in items.split(',')]\n",
    "                        if location not in recyclable_items:\n",
    "                            recyclable_items[location] = {}\n",
    "                        recyclable_items[location][material] = items\n",
    "                    else:\n",
    "                        print(f\"Invalid line format: '{line}'. Skipping...\")\n",
    "    except FileNotFoundError:\n",
    "        print(f\"Error: File '{file_path}' not found.\")\n",
    "    return recyclable_items\n",
    "\n",
    "def write_unavailable_location(location):\n",
    "    timestamp = datetime.datetime.now().strftime(\"%Y-%m-%d %H:%M:%S\")\n",
    "    with open(\"unavailable_locations.txt\", \"a\") as file:\n",
    "        file.write(f\"{timestamp} - {location}\\n\")\n",
    "\n",
    "def write_non_recyclable_item(location, material, item):\n",
    "    timestamp = datetime.datetime.now().strftime(\"%Y-%m-%d %H:%M:%S\")\n",
    "    with open(\"non_recyclable_items.txt\", \"a\") as file:\n",
    "        file.write(f\"{timestamp} - {location}: {material}: {item}\\n\")\n",
    "\n",
    "def recycle_me(location, material, item, recyclable_items):\n",
    "    location_matches = process.extractOne(location, recyclable_items.keys(), scorer=process.fuzz.ratio)\n",
    "    if location_matches[1] > 70:\n",
    "        location = location_matches[0]\n",
    "        if material in recyclable_items[location]:\n",
    "            if item in recyclable_items[location][material]:\n",
    "                print(\"Yes, recycle this! But please always remember to clean and remove any food waste attached.\")\n",
    "            else:\n",
    "                print(\"Sorry, this item is not recyclable in {} for {} material.\".format(location, material))\n",
    "                write_non_recyclable_item(location, material, item)\n",
    "        else:\n",
    "            print(\"Sorry, recycling information for {} material is not available for {}.\".format(material, location))\n",
    "            write_non_recyclable_item(location, material, item)\n",
    "    else:\n",
    "        print(\"Sorry, recycling information for {} is not available.\".format(location))\n",
    "        write_unavailable_location(location)\n",
    "\n",
    "def main():\n",
    "    # Path to the file containing the list of recyclable items\n",
    "    recyclable_items_file = \"recyclable_items.txt\"\n",
    "    recyclable_items = read_recyclable_items(recyclable_items_file)\n",
    "\n",
    "    if not recyclable_items:\n",
    "        print(\"No recyclable items found.\")\n",
    "        return\n",
    "\n",
    "    location = input(\"Your location: \").lower()  # Convert input to lowercase\n",
    "    while location not in recyclable_items:  # Check if location is supported\n",
    "        print(\"Apologies but recycling information for {} is not available. Please choose a different location.\".format(location))\n",
    "        write_unavailable_location(location)\n",
    "        location = input(\"Your location: \").lower()  # Convert input to lowercase\n",
    "\n",
    "    material = input(\"Your material (plastic, metal or glass): \")\n",
    "    while material.lower() not in ['plastic', 'metal', 'glass']:\n",
    "        print(\"Your material must be one of the following: plastic, metal, or glass.\")\n",
    "        material = input(\"Material (plastic, metal, glass): \")\n",
    "\n",
    "    item = input(\"Your item: \")\n",
    "    recycle_me(location, material, item, recyclable_items)\n",
    "\n",
    "if __name__ == \"__main__\":\n",
    "    main()"
   ]
  },
  {
   "cell_type": "code",
   "execution_count": 2,
   "id": "febae825-8616-46ac-ad81-4230c8c8238d",
   "metadata": {},
   "outputs": [
    {
     "name": "stdout",
     "output_type": "stream",
     "text": [
      "Current Directory: /Users/wyliebrown/recycle_me\n"
     ]
    }
   ],
   "source": [
    "import os\n",
    "print(\"Current Directory:\", os.getcwd())"
   ]
  },
  {
   "cell_type": "code",
   "execution_count": null,
   "id": "7db7c407-6f21-48df-9821-5ac7ec5f5576",
   "metadata": {},
   "outputs": [],
   "source": []
  }
 ],
 "metadata": {
  "kernelspec": {
   "display_name": "Python 3 (ipykernel)",
   "language": "python",
   "name": "python3"
  },
  "language_info": {
   "codemirror_mode": {
    "name": "ipython",
    "version": 3
   },
   "file_extension": ".py",
   "mimetype": "text/x-python",
   "name": "python",
   "nbconvert_exporter": "python",
   "pygments_lexer": "ipython3",
   "version": "3.11.7"
  }
 },
 "nbformat": 4,
 "nbformat_minor": 5
}
