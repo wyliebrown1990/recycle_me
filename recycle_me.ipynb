{
 "cells": [
  {
   "cell_type": "code",
   "execution_count": 4,
   "id": "cf42aee8-b2d5-4bd7-82ec-bd4b88822d0e",
   "metadata": {},
   "outputs": [
    {
     "name": "stdin",
     "output_type": "stream",
     "text": [
      "Your location:  New york\n",
      "Your material (plastic, metal or glass):  metal\n",
      "Your item:  tin can\n"
     ]
    },
    {
     "name": "stdout",
     "output_type": "stream",
     "text": [
      "Yes, recycle this! But please always remember to clean and remove any food waste attached.\n"
     ]
    }
   ],
   "source": [
    "# install these modules to your system first to handle fuzzy matches for inputs from users:\n",
    "# pip install fuzzywuzzy \n",
    "# pip install python-Levenshtein\n",
    "\n",
    "from fuzzywuzzy import process\n",
    "\n",
    "#create a function which receives 3 arguments related to the recycling process\n",
    "def recycle_me(location, material, item):\n",
    "    recyclable_items = {\n",
    "        'New York': {\n",
    "            'plastic': ['yogurt container', 'plastic bottle', 'soup can', 'water bottle', 'juice carton',\n",
    "                        'coffee cup', 'plastic cup', 'butter tub', 'ice cream container', 'salad container',\n",
    "                        'takeout container', 'pasta sauce jar', 'jam jar', 'pickle jar', 'ketchup bottle',\n",
    "                        'mustard bottle', 'mayonnaise jar', 'honey jar', 'peanut butter jar', 'jelly jar',\n",
    "                        'plastic jug', 'dish soap bottle', 'laundry detergent bottle', 'shampoo bottle',\n",
    "                        'conditioner bottle', 'body wash bottle', 'lotion bottle', 'face wash bottle',\n",
    "                        'cosmetic container', 'toothpaste tube', 'mouthwash bottle', 'medicine bottle',\n",
    "                        'vitamin bottle', 'prescription bottle', 'deodorant container', 'perfume bottle',\n",
    "                        'hair spray bottle', 'shaving cream can', 'razor', 'toothbrush', 'floss container',\n",
    "                        'cotton swab', 'soap bar wrapper', 'shampoo bar wrapper', 'conditioner bar wrapper',\n",
    "                        'lip balm tube', 'sunscreen bottle', 'bug spray bottle', 'nail polish bottle',\n",
    "                        'nail polish remover bottle', 'paint can', 'paintbrush', 'paint roller',\n",
    "                        'tape dispenser', 'scissors', 'ruler', 'pencil sharpener', 'stapler',\n",
    "                        'staple remover', 'paper clip', 'binder clip', 'thumbtack', 'push pin',\n",
    "                        'cork', 'corkboard', 'eraser', 'highlighter', 'marker', 'permanent marker',\n",
    "                        'whiteboard marker', 'chalk', 'chalkboard', 'dry erase board', 'calendar',\n",
    "                        'notebook', 'folder', 'index card', 'post-it note', 'envelope', 'mailer',\n",
    "                        'bubble mailer', 'cardboard tube'],\n",
    "            'metal': ['soda can', 'aluminum can', 'tin can', 'aluminum foil', 'paint can', 'paintbrush',\n",
    "                      'paint roller', 'tape dispenser', 'scissors', 'ruler', 'pencil sharpener', 'stapler',\n",
    "                      'staple remover', 'paper clip', 'binder clip', 'thumbtack', 'push pin', 'cork',\n",
    "                      'corkboard', 'eraser', 'highlighter', 'marker', 'permanent marker', 'whiteboard marker',\n",
    "                      'chalk', 'chalkboard', 'dry erase board', 'calendar', 'notebook', 'folder', 'index card',\n",
    "                      'post-it note', 'envelope', 'mailer', 'bubble mailer', 'cardboard tube'],\n",
    "            'glass': ['glass bottle', 'wine bottle', 'coffee cup', 'cosmetic container', 'perfume bottle',\n",
    "                      'nail polish bottle', 'nail polish remover bottle', 'jar', 'bottle']\n",
    "        }\n",
    "    }\n",
    "    \n",
    "    location_matches = process.extractOne(location, recyclable_items.keys(), scorer=process.fuzz.ratio)\n",
    "    if location_matches[1] > 70:  # Check if the match score is above a threshold\n",
    "        location = location_matches[0]\n",
    "        material_matches = process.extractOne(material, recyclable_items[location].keys(), scorer=process.fuzz.ratio)\n",
    "        if material_matches[1] > 70:  # Check if the match score is above a threshold\n",
    "            material = material_matches[0]\n",
    "            item_matches = process.extractOne(item, recyclable_items[location][material], scorer=process.fuzz.ratio)\n",
    "            if item_matches[1] > 70:  # Check if the match score is above a threshold\n",
    "                item = item_matches[0]\n",
    "                print(\"Yes, recycle this! But please always remember to clean and remove any food waste attached.\")\n",
    "            else:\n",
    "                print(\"Sorry, this item is not recyclable in {} for {} material.\".format(location, material))\n",
    "        else:\n",
    "            print(\"Sorry, recycling information for {} material is not available for {}.\".format(material, location))\n",
    "    else:\n",
    "        print(\"Sorry, recycling information for {} is not available.\".format(location))\n",
    "\n",
    "# Example usage:\n",
    "location = input(\"Your location: \")\n",
    "while location.lower() not in ['new york']:\n",
    "    print(\"Apologies but your location can only be in New York. Re-enter location: \")\n",
    "    location = input(\"Your location: \")\n",
    "\n",
    "# Keep prompting for material until a valid one is entered\n",
    "material = input(\"Your material (plastic, metal or glass): \")\n",
    "while material.lower() not in ['plastic', 'metal', 'glass']:\n",
    "    print(\"Your material must be one of the following: plastic, metal, or glass.\")\n",
    "    material = input(\"Material (plastic, metal, glass): \")\n",
    "\n",
    "item = input(\"Your item: \")\n",
    "\n",
    "recycle_me(location, material, item)\n",
    "\n",
    "#Next I want to update this code to check a file with the dictionary and update a new file with unrecognized items.\n"
   ]
  },
  {
   "cell_type": "code",
   "execution_count": null,
   "id": "febae825-8616-46ac-ad81-4230c8c8238d",
   "metadata": {},
   "outputs": [],
   "source": []
  }
 ],
 "metadata": {
  "kernelspec": {
   "display_name": "Python 3 (ipykernel)",
   "language": "python",
   "name": "python3"
  },
  "language_info": {
   "codemirror_mode": {
    "name": "ipython",
    "version": 3
   },
   "file_extension": ".py",
   "mimetype": "text/x-python",
   "name": "python",
   "nbconvert_exporter": "python",
   "pygments_lexer": "ipython3",
   "version": "3.11.7"
  }
 },
 "nbformat": 4,
 "nbformat_minor": 5
}
