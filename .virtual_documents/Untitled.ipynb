# install these modules to your system first to handle fuzzy matches for inputs from users:
# pip install fuzzywuzzy 
# pip install python-Levenshtein

from fuzzywuzzy import process

#create a function which receives 3 arguments related to the recycling process
def recycle_me(location, material, item):
    recyclable_items = {
        'New York': {
            'plastic': ['yogurt container', 'plastic bottle', 'soup can', 'water bottle', 'juice carton',
                        'coffee cup', 'plastic cup', 'butter tub', 'ice cream container', 'salad container',
                        'takeout container', 'pasta sauce jar', 'jam jar', 'pickle jar', 'ketchup bottle',
                        'mustard bottle', 'mayonnaise jar', 'honey jar', 'peanut butter jar', 'jelly jar',
                        'plastic jug', 'dish soap bottle', 'laundry detergent bottle', 'shampoo bottle',
                        'conditioner bottle', 'body wash bottle', 'lotion bottle', 'face wash bottle',
                        'cosmetic container', 'toothpaste tube', 'mouthwash bottle', 'medicine bottle',
                        'vitamin bottle', 'prescription bottle', 'deodorant container', 'perfume bottle',
                        'hair spray bottle', 'shaving cream can', 'razor', 'toothbrush', 'floss container',
                        'cotton swab', 'soap bar wrapper', 'shampoo bar wrapper', 'conditioner bar wrapper',
                        'lip balm tube', 'sunscreen bottle', 'bug spray bottle', 'nail polish bottle',
                        'nail polish remover bottle', 'paint can', 'paintbrush', 'paint roller',
                        'tape dispenser', 'scissors', 'ruler', 'pencil sharpener', 'stapler',
                        'staple remover', 'paper clip', 'binder clip', 'thumbtack', 'push pin',
                        'cork', 'corkboard', 'eraser', 'highlighter', 'marker', 'permanent marker',
                        'whiteboard marker', 'chalk', 'chalkboard', 'dry erase board', 'calendar',
                        'notebook', 'folder', 'index card', 'post-it note', 'envelope', 'mailer',
                        'bubble mailer', 'cardboard tube'],
            'metal': ['soda can', 'aluminum can', 'tin can', 'aluminum foil', 'paint can', 'paintbrush',
                      'paint roller', 'tape dispenser', 'scissors', 'ruler', 'pencil sharpener', 'stapler',
                      'staple remover', 'paper clip', 'binder clip', 'thumbtack', 'push pin', 'cork',
                      'corkboard', 'eraser', 'highlighter', 'marker', 'permanent marker', 'whiteboard marker',
                      'chalk', 'chalkboard', 'dry erase board', 'calendar', 'notebook', 'folder', 'index card',
                      'post-it note', 'envelope', 'mailer', 'bubble mailer', 'cardboard tube'],
            'glass': ['glass bottle', 'wine bottle', 'coffee cup', 'cosmetic container', 'perfume bottle',
                      'nail polish bottle', 'nail polish remover bottle', 'jar', 'bottle']
        }
    }
    
    location_matches = process.extractOne(location, recyclable_items.keys(), scorer=process.fuzz.ratio)
    if location_matches[1] > 70:  # Check if the match score is above a threshold
        location = location_matches[0]
        material_matches = process.extractOne(material, recyclable_items[location].keys(), scorer=process.fuzz.ratio)
        if material_matches[1] > 70:  # Check if the match score is above a threshold
            material = material_matches[0]
            item_matches = process.extractOne(item, recyclable_items[location][material], scorer=process.fuzz.ratio)
            if item_matches[1] > 70:  # Check if the match score is above a threshold
                item = item_matches[0]
                print("Yes, recycle this!")
            else:
                print("Sorry, this item is not recyclable in {} for {} material.".format(location, material))
        else:
            print("Sorry, recycling information for {} material is not available for {}.".format(material, location))
    else:
        print("Sorry, recycling information for {} is not available.".format(location))

# Example usage:
location = input("Your location: ")
while location.lower() not in ['new york']:
    print("Apologies but your location can only be in New York. Re-enter location: ")
    location = input("Your location: ")

# Keep prompting for material until a valid one is entered
material = input("Your material (plastic, metal or glass): ")
while material.lower() not in ['plastic', 'metal', 'glass']:
    print("Your material must be one of the following: plastic, metal, or glass.")
    material = input("Material (plastic, metal, glass): ")

item = input("Your item: ")

recycle_me(location, material, item)

#Next I want to update this code to check a file with the dictionary and update a new file with unrecognized items.




