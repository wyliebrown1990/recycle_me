# install these modules to your system first to handle fuzzy matches for inputs from users:
# pip install fuzzywuzzy 
# pip install python-Levenshtein

from fuzzywuzzy import process

def read_recyclable_items(file_path):
    recyclable_items = {}
    try:
        with open(file_path, 'r') as file:
            for line in file:
                line = line.strip()
                if line:  # Check if line is not empty
                    parts = line.split(':')
                    if len(parts) == 3:  # Check if line has all required parts
                        location, material, items = parts
                        location = location.strip()
                        material = material.strip()
                        items = [item.strip() for item in items.split(',')]
                        if location not in recyclable_items:
                            recyclable_items[location] = {}
                        recyclable_items[location][material] = items
                    else:
                        print(f"Invalid line format: '{line}'. Skipping...")
    except FileNotFoundError:
        print(f"Error: File '{file_path}' not found.")
    return recyclable_items

def write_unavailable_location(location):
    try:
        with open("unavailable_locations.txt", "a") as file:
            file.write(location + "\n")
    except IOError as e:
        print(f"Error writing to 'unavailable_locations.txt': {e}")

def write_non_recyclable_item(location, material, item):
    try:
        with open("non_recyclable_items.txt", "a") as file:
            file.write(f"{location}: {material}: {item}\n")
    except IOError as e:
        print(f"Error writing to 'non_recyclable_items.txt': {e}")

def recycle_me(location, material, item, recyclable_items):
    location_matches = process.extractOne(location, recyclable_items.keys(), scorer=process.fuzz.ratio)
    if location_matches[1] > 70:
        location = location_matches[0]
        if material in recyclable_items[location]:
            if item in recyclable_items[location][material]:
                print("Yes, recycle this! But please always remember to clean and remove any food waste attached.")
            else:
                print("Sorry, this item is not recyclable in {} for {} material.".format(location, material))
                write_non_recyclable_item(location, material, item)
        else:
            print("Sorry, recycling information for {} material is not available for {}.".format(material, location))
            write_non_recyclable_item(location, material, item)
    else:
        print("Sorry, recycling information for {} is not available.".format(location))
        write_unavailable_location(location)

def main():
    # Path to the file containing the list of recyclable items
    recyclable_items_file = "recyclable_items.txt"
    recyclable_items = read_recyclable_items(recyclable_items_file)

    if not recyclable_items:
        print("No recyclable items found.")
        return

    location = input("Your location: ").lower()  # Convert input to lowercase
    while location not in recyclable_items:  # Check if location is supported
        print("Apologies but recycling information for {} is not available. Please choose a different location.".format(location))
        write_unavailable_location(location)
        location = input("Your location: ").lower()  # Convert input to lowercase

    material = input("Your material (plastic, metal or glass): ")
    while material.lower() not in ['plastic', 'metal', 'glass']:
        print("Your material must be one of the following: plastic, metal, or glass.")
        material = input("Material (plastic, metal, glass): ")

    item = input("Your item: ")
    recycle_me(location, material, item, recyclable_items)

if __name__ == "__main__":
    main()


import os
print("Current Directory:", os.getcwd())



